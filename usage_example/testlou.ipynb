{
 "cells": [
  {
   "cell_type": "markdown",
   "id": "228e637a",
   "metadata": {},
   "source": [
    "## Testing notebook for my ai lib"
   ]
  },
  {
   "cell_type": "code",
   "execution_count": 1,
   "id": "43490649",
   "metadata": {},
   "outputs": [],
   "source": [
    "from lou.NL import *"
   ]
  },
  {
   "cell_type": "code",
   "execution_count": 2,
   "id": "02995ae2",
   "metadata": {},
   "outputs": [],
   "source": [
    "def sigmoid(x):\n",
    "    return 1/(1+np.exp(-x))\n",
    "def dsigmoid(x):\n",
    "    s = sigmoid(x)\n",
    "    return s*(1-s)\n",
    "\n",
    "Network = General_Network(struct=[9,10,1], f=sigmoid, df=dsigmoid)\n",
    "\n"
   ]
  },
  {
   "cell_type": "code",
   "execution_count": 3,
   "id": "37c94e2d",
   "metadata": {},
   "outputs": [
    {
     "name": "stdout",
     "output_type": "stream",
     "text": [
      "(10, 9)\n",
      "(1, 10)\n",
      "(10, 1)\n",
      "(1, 1)\n"
     ]
    }
   ],
   "source": [
    "for w in Network.Weights:\n",
    "    print(w.shape)\n",
    "\n",
    "for b in Network.Biases:\n",
    "    print(b.shape)"
   ]
  },
  {
   "cell_type": "code",
   "execution_count": 4,
   "id": "3662eed5",
   "metadata": {},
   "outputs": [
    {
     "data": {
      "text/plain": [
       "[(None,\n",
       "  array([[1],\n",
       "         [0],\n",
       "         [0],\n",
       "         [0],\n",
       "         [0],\n",
       "         [0],\n",
       "         [0],\n",
       "         [0],\n",
       "         [0]])),\n",
       " (array([[0.70317242],\n",
       "         [0.94395399],\n",
       "         [0.54093133],\n",
       "         [0.79352023],\n",
       "         [0.76588244],\n",
       "         [0.89461463],\n",
       "         [0.76681513],\n",
       "         [0.77347037],\n",
       "         [1.35647562],\n",
       "         [1.30555944]]),\n",
       "  array([[0.66889076],\n",
       "         [0.71989765],\n",
       "         [0.63202904],\n",
       "         [0.68858669],\n",
       "         [0.68262951],\n",
       "         [0.70984155],\n",
       "         [0.68283154],\n",
       "         [0.68427113],\n",
       "         [0.7951863 ],\n",
       "         [0.78676914]])),\n",
       " (array([[5.52986946]]), array([[0.99604916]]))]"
      ]
     },
     "execution_count": 4,
     "metadata": {},
     "output_type": "execute_result"
    }
   ],
   "source": [
    "Network.frontprop(np.array([[1,0,0,0,0,0,0,0,0]]))"
   ]
  },
  {
   "cell_type": "code",
   "execution_count": 5,
   "id": "7d83004c",
   "metadata": {},
   "outputs": [],
   "source": [
    "#this data only works for a network with the same configuration as seen above.\n",
    "\n",
    "data = [(np.array([0,0,0,0,0,0,0,0,0]), np.array([0])), \n",
    "        (np.array([1,0,0,0,0,0,0,0,0]), np.array([0])), \n",
    "        (np.array([0,1,0,0,0,0,0,0,0]), np.array([0])), \n",
    "        (np.array([0,0,1,0,0,0,0,0,0]), np.array([0])), \n",
    "        (np.array([0,0,0,1,0,0,0,0,0]), np.array([0])),\n",
    "        (np.array([0,0,0,0,1,0,0,0,0]), np.array([0])),\n",
    "        (np.array([0,0,0,0,0,1,0,0,0]), np.array([1])),\n",
    "        (np.array([0,0,0,0,0,0,1,0,0]), np.array([1])),\n",
    "        (np.array([0,0,0,0,0,0,0,1,0]), np.array([1])),\n",
    "        (np.array([0,0,0,0,0,0,0,0,1]), np.array([1])),\n",
    "        (np.array([1,0,1,0,0,0,0,0,0]), np.array([0])),\n",
    "        (np.array([1,1,0,0,0,0,0,0,0]), np.array([0])),\n",
    "        (np.array([0,0,0,0,0,1,0,0,1]), np.array([1])),\n",
    "        (np.array([1,0,0,0,0,0,0,0,1]), np.array([1])),\n",
    "        (np.array([1,0,1,0,0,0,1,0,1]), np.array([1])),\n",
    "        (np.array([0,0,1,1,0,0,0,0,1]), np.array([1])),\n",
    "        (np.array([1,0,0,0,0,0,0,1,1]), np.array([1]))]\n"
   ]
  },
  {
   "cell_type": "code",
   "execution_count": 6,
   "id": "a8ef9902",
   "metadata": {},
   "outputs": [
    {
     "name": "stdout",
     "output_type": "stream",
     "text": [
      "0.23326191587318404\n",
      "Loop number 0\n",
      "Loop number 1000\n",
      "Loop number 2000\n",
      "Loop number 3000\n",
      "Loop number 4000\n",
      "Loop number 5000\n",
      "Loop number 6000\n",
      "Loop number 7000\n",
      "Loop number 8000\n",
      "Loop number 9000\n"
     ]
    },
    {
     "data": {
      "text/plain": [
       "np.float64(0.0009820512572893513)"
      ]
     },
     "execution_count": 6,
     "metadata": {},
     "output_type": "execute_result"
    }
   ],
   "source": [
    "print(Network.meancost(data))\n",
    "Network.train(data=data, tries=10000, verbose=1000)\n",
    "Network.meancost(data)"
   ]
  },
  {
   "cell_type": "code",
   "execution_count": 7,
   "id": "4a2798a1",
   "metadata": {},
   "outputs": [
    {
     "name": "stdout",
     "output_type": "stream",
     "text": [
      "0.21400633038590308\n",
      "0.014820762405335404\n"
     ]
    }
   ],
   "source": [
    "# test with a new configuration mainting a start of 9 and an end of 1\n",
    "Network2 = NeuralNetwork([9,5,5,1])\n",
    "\n",
    "print(Network2.meancost(data))\n",
    "\n",
    "Network2.train(data, tries=10000)\n",
    "\n",
    "print(Network2.meancost(data))"
   ]
  },
  {
   "cell_type": "code",
   "execution_count": 8,
   "id": "9749e411",
   "metadata": {},
   "outputs": [
    {
     "name": "stdout",
     "output_type": "stream",
     "text": [
      "Export succesful\n"
     ]
    }
   ],
   "source": [
    "Network2.export('./network3')\n",
    "Network3 = ImportNetwork(\"./network3\")\n",
    "assert(Network3.meancost(data)==Network2.meancost(data))\n",
    "    "
   ]
  },
  {
   "cell_type": "code",
   "execution_count": 9,
   "id": "9fe82038",
   "metadata": {},
   "outputs": [
    {
     "name": "stdout",
     "output_type": "stream",
     "text": [
      "[[0.9814755062365461], [0.0009732804425122547]]\n"
     ]
    }
   ],
   "source": [
    "from lou.Tokenizer import CharTokenizer\n",
    "\n",
    "print(Network.FeedTokens(CharTokenizer, \"HelloNeighbout\"))"
   ]
  }
 ],
 "metadata": {
  "kernelspec": {
   "display_name": "venv",
   "language": "python",
   "name": "python3"
  },
  "language_info": {
   "codemirror_mode": {
    "name": "ipython",
    "version": 3
   },
   "file_extension": ".py",
   "mimetype": "text/x-python",
   "name": "python",
   "nbconvert_exporter": "python",
   "pygments_lexer": "ipython3",
   "version": "3.13.2"
  }
 },
 "nbformat": 4,
 "nbformat_minor": 5
}
