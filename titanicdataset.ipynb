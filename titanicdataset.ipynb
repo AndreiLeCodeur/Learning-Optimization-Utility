{
 "cells": [
  {
   "cell_type": "code",
   "execution_count": 66,
   "id": "3273f54c",
   "metadata": {},
   "outputs": [],
   "source": [
    "import pandas as pd"
   ]
  },
  {
   "cell_type": "code",
   "execution_count": 67,
   "id": "34287c07",
   "metadata": {},
   "outputs": [],
   "source": [
    "def normalizer(data, column):\n",
    "    min_val = data[column].min()\n",
    "    max_val = data[column].max()\n",
    "    data[column] = (data[column] - min_val) / (max_val - min_val)"
   ]
  },
  {
   "cell_type": "code",
   "execution_count": 68,
   "id": "6ecab5c4",
   "metadata": {},
   "outputs": [],
   "source": [
    "df = pd.read_csv(\"./titanic/train.csv\")"
   ]
  },
  {
   "cell_type": "code",
   "execution_count": 69,
   "id": "3f76c893",
   "metadata": {},
   "outputs": [],
   "source": [
    "df = df.drop(columns=[\"Name\", \"Ticket\", \"Cabin\",\"PassengerId\"])\n",
    "df[\"Age\"] = df[\"Age\"].fillna(df[\"Age\"].mean())\n",
    "df['Sex'] = df['Sex'].map({\"male\" : 0, \"female\" : 1})\n",
    "df['Embarked'] = df['Embarked'].map({'S' : 0, 'C' : 0.5, 'Q' : 1})\n",
    "df = df.dropna()\n"
   ]
  },
  {
   "cell_type": "code",
   "execution_count": 70,
   "id": "ad02f9e3",
   "metadata": {},
   "outputs": [],
   "source": [
    "normalizer(df, \"Age\")\n",
    "normalizer(df, \"Pclass\")\n",
    "normalizer(df, \"Parch\")\n",
    "normalizer(df, \"Fare\")"
   ]
  },
  {
   "cell_type": "code",
   "execution_count": 74,
   "id": "5a63e917",
   "metadata": {},
   "outputs": [],
   "source": [
    "df_train = df.head(df.shape[0]-100)\n",
    "df_test = df.tail(100)"
   ]
  },
  {
   "cell_type": "code",
   "execution_count": 75,
   "id": "29053b03",
   "metadata": {},
   "outputs": [
    {
     "data": {
      "text/html": [
       "<div>\n",
       "<style scoped>\n",
       "    .dataframe tbody tr th:only-of-type {\n",
       "        vertical-align: middle;\n",
       "    }\n",
       "\n",
       "    .dataframe tbody tr th {\n",
       "        vertical-align: top;\n",
       "    }\n",
       "\n",
       "    .dataframe thead th {\n",
       "        text-align: right;\n",
       "    }\n",
       "</style>\n",
       "<table border=\"1\" class=\"dataframe\">\n",
       "  <thead>\n",
       "    <tr style=\"text-align: right;\">\n",
       "      <th></th>\n",
       "      <th>Survived</th>\n",
       "      <th>Pclass</th>\n",
       "      <th>Sex</th>\n",
       "      <th>Age</th>\n",
       "      <th>SibSp</th>\n",
       "      <th>Parch</th>\n",
       "      <th>Fare</th>\n",
       "      <th>Embarked</th>\n",
       "    </tr>\n",
       "  </thead>\n",
       "  <tbody>\n",
       "    <tr>\n",
       "      <th>0</th>\n",
       "      <td>0</td>\n",
       "      <td>1.0</td>\n",
       "      <td>0</td>\n",
       "      <td>0.271174</td>\n",
       "      <td>1</td>\n",
       "      <td>0.000000</td>\n",
       "      <td>0.014151</td>\n",
       "      <td>0.0</td>\n",
       "    </tr>\n",
       "    <tr>\n",
       "      <th>1</th>\n",
       "      <td>1</td>\n",
       "      <td>0.0</td>\n",
       "      <td>1</td>\n",
       "      <td>0.472229</td>\n",
       "      <td>1</td>\n",
       "      <td>0.000000</td>\n",
       "      <td>0.139136</td>\n",
       "      <td>0.5</td>\n",
       "    </tr>\n",
       "    <tr>\n",
       "      <th>2</th>\n",
       "      <td>1</td>\n",
       "      <td>1.0</td>\n",
       "      <td>1</td>\n",
       "      <td>0.321438</td>\n",
       "      <td>0</td>\n",
       "      <td>0.000000</td>\n",
       "      <td>0.015469</td>\n",
       "      <td>0.0</td>\n",
       "    </tr>\n",
       "    <tr>\n",
       "      <th>3</th>\n",
       "      <td>1</td>\n",
       "      <td>0.0</td>\n",
       "      <td>1</td>\n",
       "      <td>0.434531</td>\n",
       "      <td>1</td>\n",
       "      <td>0.000000</td>\n",
       "      <td>0.103644</td>\n",
       "      <td>0.0</td>\n",
       "    </tr>\n",
       "    <tr>\n",
       "      <th>4</th>\n",
       "      <td>0</td>\n",
       "      <td>1.0</td>\n",
       "      <td>0</td>\n",
       "      <td>0.434531</td>\n",
       "      <td>0</td>\n",
       "      <td>0.000000</td>\n",
       "      <td>0.015713</td>\n",
       "      <td>0.0</td>\n",
       "    </tr>\n",
       "    <tr>\n",
       "      <th>...</th>\n",
       "      <td>...</td>\n",
       "      <td>...</td>\n",
       "      <td>...</td>\n",
       "      <td>...</td>\n",
       "      <td>...</td>\n",
       "      <td>...</td>\n",
       "      <td>...</td>\n",
       "      <td>...</td>\n",
       "    </tr>\n",
       "    <tr>\n",
       "      <th>785</th>\n",
       "      <td>0</td>\n",
       "      <td>1.0</td>\n",
       "      <td>0</td>\n",
       "      <td>0.308872</td>\n",
       "      <td>0</td>\n",
       "      <td>0.000000</td>\n",
       "      <td>0.014151</td>\n",
       "      <td>0.0</td>\n",
       "    </tr>\n",
       "    <tr>\n",
       "      <th>786</th>\n",
       "      <td>1</td>\n",
       "      <td>1.0</td>\n",
       "      <td>1</td>\n",
       "      <td>0.220910</td>\n",
       "      <td>0</td>\n",
       "      <td>0.000000</td>\n",
       "      <td>0.014631</td>\n",
       "      <td>0.0</td>\n",
       "    </tr>\n",
       "    <tr>\n",
       "      <th>787</th>\n",
       "      <td>0</td>\n",
       "      <td>1.0</td>\n",
       "      <td>0</td>\n",
       "      <td>0.095250</td>\n",
       "      <td>4</td>\n",
       "      <td>0.166667</td>\n",
       "      <td>0.056848</td>\n",
       "      <td>1.0</td>\n",
       "    </tr>\n",
       "    <tr>\n",
       "      <th>788</th>\n",
       "      <td>1</td>\n",
       "      <td>1.0</td>\n",
       "      <td>0</td>\n",
       "      <td>0.007288</td>\n",
       "      <td>1</td>\n",
       "      <td>0.333333</td>\n",
       "      <td>0.040160</td>\n",
       "      <td>0.0</td>\n",
       "    </tr>\n",
       "    <tr>\n",
       "      <th>789</th>\n",
       "      <td>0</td>\n",
       "      <td>0.0</td>\n",
       "      <td>0</td>\n",
       "      <td>0.572757</td>\n",
       "      <td>0</td>\n",
       "      <td>0.000000</td>\n",
       "      <td>0.154588</td>\n",
       "      <td>0.5</td>\n",
       "    </tr>\n",
       "  </tbody>\n",
       "</table>\n",
       "<p>789 rows × 8 columns</p>\n",
       "</div>"
      ],
      "text/plain": [
       "     Survived  Pclass  Sex       Age  SibSp     Parch      Fare  Embarked\n",
       "0           0     1.0    0  0.271174      1  0.000000  0.014151       0.0\n",
       "1           1     0.0    1  0.472229      1  0.000000  0.139136       0.5\n",
       "2           1     1.0    1  0.321438      0  0.000000  0.015469       0.0\n",
       "3           1     0.0    1  0.434531      1  0.000000  0.103644       0.0\n",
       "4           0     1.0    0  0.434531      0  0.000000  0.015713       0.0\n",
       "..        ...     ...  ...       ...    ...       ...       ...       ...\n",
       "785         0     1.0    0  0.308872      0  0.000000  0.014151       0.0\n",
       "786         1     1.0    1  0.220910      0  0.000000  0.014631       0.0\n",
       "787         0     1.0    0  0.095250      4  0.166667  0.056848       1.0\n",
       "788         1     1.0    0  0.007288      1  0.333333  0.040160       0.0\n",
       "789         0     0.0    0  0.572757      0  0.000000  0.154588       0.5\n",
       "\n",
       "[789 rows x 8 columns]"
      ]
     },
     "execution_count": 75,
     "metadata": {},
     "output_type": "execute_result"
    }
   ],
   "source": [
    "df_train"
   ]
  },
  {
   "cell_type": "code",
   "execution_count": 76,
   "id": "7c8b1431",
   "metadata": {},
   "outputs": [],
   "source": [
    "train_data = []\n",
    "for index, row in df_train.iterrows() :\n",
    "    train_data.append((row.iloc[1:].to_numpy().reshape(7,1), row.iloc[0:1].to_numpy().reshape(1,1)))\n",
    "\n",
    "test_data = []\n",
    "for index, row in df_test.iterrows() :\n",
    "    test_data.append((row.iloc[1:].to_numpy().reshape(7,1), row.iloc[0:1].to_numpy().reshape(1,1)))\n"
   ]
  },
  {
   "cell_type": "code",
   "execution_count": 77,
   "id": "974abecf",
   "metadata": {},
   "outputs": [],
   "source": [
    "import lou"
   ]
  },
  {
   "cell_type": "code",
   "execution_count": 88,
   "id": "e5c64b35",
   "metadata": {},
   "outputs": [],
   "source": [
    "Network = lou.NeuralNetwork([7,10,5,5,1])"
   ]
  },
  {
   "cell_type": "code",
   "execution_count": null,
   "id": "4b4d97ac",
   "metadata": {},
   "outputs": [
    {
     "name": "stdout",
     "output_type": "stream",
     "text": [
      "Mean before training : 0.29507707834575364\n"
     ]
    },
    {
     "ename": "KeyboardInterrupt",
     "evalue": "",
     "output_type": "error",
     "traceback": [
      "\u001b[31m---------------------------------------------------------------------------\u001b[39m",
      "\u001b[31mKeyboardInterrupt\u001b[39m                         Traceback (most recent call last)",
      "\u001b[36mCell\u001b[39m\u001b[36m \u001b[39m\u001b[32mIn[89]\u001b[39m\u001b[32m, line 2\u001b[39m\n\u001b[32m      1\u001b[39m \u001b[38;5;28mprint\u001b[39m(\u001b[33mf\u001b[39m\u001b[33m'\u001b[39m\u001b[33mMean before training : \u001b[39m\u001b[38;5;132;01m{\u001b[39;00mNetwork.meancost(test_data)\u001b[38;5;132;01m}\u001b[39;00m\u001b[33m'\u001b[39m)\n\u001b[32m----> \u001b[39m\u001b[32m2\u001b[39m \u001b[43mNetwork\u001b[49m\u001b[43m.\u001b[49m\u001b[43mtrain\u001b[49m\u001b[43m(\u001b[49m\u001b[43mtrain_data\u001b[49m\u001b[43m,\u001b[49m\u001b[43m \u001b[49m\u001b[43mtries\u001b[49m\u001b[43m=\u001b[49m\u001b[32;43m100000\u001b[39;49m\u001b[43m,\u001b[49m\u001b[43m \u001b[49m\u001b[43malpha\u001b[49m\u001b[43m=\u001b[49m\u001b[32;43m0.1\u001b[39;49m\u001b[43m)\u001b[49m\n\u001b[32m      3\u001b[39m \u001b[38;5;28mprint\u001b[39m(\u001b[33mf\u001b[39m\u001b[33m'\u001b[39m\u001b[33mMean after training : \u001b[39m\u001b[38;5;132;01m{\u001b[39;00mNetwork.meancost(test_data)\u001b[38;5;132;01m}\u001b[39;00m\u001b[33m'\u001b[39m)\n",
      "\u001b[36mFile \u001b[39m\u001b[32mc:\\Users\\trolo\\Documents\\Coding\\NeuralNetworkImplement\\lou.py:59\u001b[39m, in \u001b[36mNeuralNetwork.train\u001b[39m\u001b[34m(self, data, alpha, tries)\u001b[39m\n\u001b[32m     57\u001b[39m \u001b[38;5;28;01mfor\u001b[39;00m i \u001b[38;5;129;01min\u001b[39;00m \u001b[38;5;28mrange\u001b[39m(\u001b[38;5;28mlen\u001b[39m(\u001b[38;5;28mself\u001b[39m.Weights)):\n\u001b[32m     58\u001b[39m     \u001b[38;5;28mself\u001b[39m.Weights[i] -= alpha * dWs[i]\n\u001b[32m---> \u001b[39m\u001b[32m59\u001b[39m     \u001b[38;5;28mself\u001b[39m.Biases[i] -= alpha * dBs[i]\n",
      "\u001b[31mKeyboardInterrupt\u001b[39m: "
     ]
    }
   ],
   "source": [
    "print(f'Mean before training : {Network.meancost(test_data)}')\n",
    "Network.train(train_data, tries=100000, alpha=0.01)\n",
    "print(f'Mean after training : {Network.meancost(test_data)}')\n"
   ]
  },
  {
   "cell_type": "code",
   "execution_count": 90,
   "id": "9328ea91",
   "metadata": {},
   "outputs": [
    {
     "name": "stdout",
     "output_type": "stream",
     "text": [
      "Mean after training : 0.0621334005277731\n"
     ]
    }
   ],
   "source": [
    "print(f'Mean after training : {Network.meancost(test_data)}')\n"
   ]
  },
  {
   "cell_type": "code",
   "execution_count": null,
   "id": "b82a0743",
   "metadata": {},
   "outputs": [],
   "source": [
    "\n",
    "df2 = pd.read_csv(\"./titanic/test.csv\")"
   ]
  },
  {
   "cell_type": "code",
   "execution_count": 81,
   "id": "edf27049",
   "metadata": {},
   "outputs": [],
   "source": [
    "df2 = df2.drop(columns=[\"Name\", \"Ticket\", \"Cabin\",\"PassengerId\"])\n",
    "df2[\"Age\"] = df2[\"Age\"].fillna(df2[\"Age\"].mean())\n",
    "df2['Sex'] = df2['Sex'].map({\"male\" : 0, \"female\" : 1})\n",
    "df2['Embarked'] = df2['Embarked'].map({'S' : 0, 'C' : 0.5, 'Q' : 1})\n",
    "normalizer(df2, \"Age\")\n",
    "normalizer(df2, \"Pclass\")\n",
    "normalizer(df2, \"Parch\")\n",
    "normalizer(df2, \"Fare\")"
   ]
  },
  {
   "cell_type": "code",
   "execution_count": 82,
   "id": "72d7c27a",
   "metadata": {},
   "outputs": [
    {
     "data": {
      "text/html": [
       "<div>\n",
       "<style scoped>\n",
       "    .dataframe tbody tr th:only-of-type {\n",
       "        vertical-align: middle;\n",
       "    }\n",
       "\n",
       "    .dataframe tbody tr th {\n",
       "        vertical-align: top;\n",
       "    }\n",
       "\n",
       "    .dataframe thead th {\n",
       "        text-align: right;\n",
       "    }\n",
       "</style>\n",
       "<table border=\"1\" class=\"dataframe\">\n",
       "  <thead>\n",
       "    <tr style=\"text-align: right;\">\n",
       "      <th></th>\n",
       "      <th>Pclass</th>\n",
       "      <th>Sex</th>\n",
       "      <th>Age</th>\n",
       "      <th>SibSp</th>\n",
       "      <th>Parch</th>\n",
       "      <th>Fare</th>\n",
       "      <th>Embarked</th>\n",
       "    </tr>\n",
       "  </thead>\n",
       "  <tbody>\n",
       "    <tr>\n",
       "      <th>0</th>\n",
       "      <td>1.0</td>\n",
       "      <td>0</td>\n",
       "      <td>0.452723</td>\n",
       "      <td>0</td>\n",
       "      <td>0.000000</td>\n",
       "      <td>0.015282</td>\n",
       "      <td>1.0</td>\n",
       "    </tr>\n",
       "    <tr>\n",
       "      <th>1</th>\n",
       "      <td>1.0</td>\n",
       "      <td>1</td>\n",
       "      <td>0.617566</td>\n",
       "      <td>1</td>\n",
       "      <td>0.000000</td>\n",
       "      <td>0.013663</td>\n",
       "      <td>0.0</td>\n",
       "    </tr>\n",
       "    <tr>\n",
       "      <th>2</th>\n",
       "      <td>0.5</td>\n",
       "      <td>0</td>\n",
       "      <td>0.815377</td>\n",
       "      <td>0</td>\n",
       "      <td>0.000000</td>\n",
       "      <td>0.018909</td>\n",
       "      <td>1.0</td>\n",
       "    </tr>\n",
       "    <tr>\n",
       "      <th>3</th>\n",
       "      <td>1.0</td>\n",
       "      <td>0</td>\n",
       "      <td>0.353818</td>\n",
       "      <td>0</td>\n",
       "      <td>0.000000</td>\n",
       "      <td>0.016908</td>\n",
       "      <td>0.0</td>\n",
       "    </tr>\n",
       "    <tr>\n",
       "      <th>4</th>\n",
       "      <td>1.0</td>\n",
       "      <td>1</td>\n",
       "      <td>0.287881</td>\n",
       "      <td>1</td>\n",
       "      <td>0.111111</td>\n",
       "      <td>0.023984</td>\n",
       "      <td>0.0</td>\n",
       "    </tr>\n",
       "    <tr>\n",
       "      <th>...</th>\n",
       "      <td>...</td>\n",
       "      <td>...</td>\n",
       "      <td>...</td>\n",
       "      <td>...</td>\n",
       "      <td>...</td>\n",
       "      <td>...</td>\n",
       "      <td>...</td>\n",
       "    </tr>\n",
       "    <tr>\n",
       "      <th>413</th>\n",
       "      <td>1.0</td>\n",
       "      <td>0</td>\n",
       "      <td>0.396975</td>\n",
       "      <td>0</td>\n",
       "      <td>0.000000</td>\n",
       "      <td>0.015713</td>\n",
       "      <td>0.0</td>\n",
       "    </tr>\n",
       "    <tr>\n",
       "      <th>414</th>\n",
       "      <td>0.0</td>\n",
       "      <td>1</td>\n",
       "      <td>0.512066</td>\n",
       "      <td>0</td>\n",
       "      <td>0.000000</td>\n",
       "      <td>0.212559</td>\n",
       "      <td>0.5</td>\n",
       "    </tr>\n",
       "    <tr>\n",
       "      <th>415</th>\n",
       "      <td>1.0</td>\n",
       "      <td>0</td>\n",
       "      <td>0.505473</td>\n",
       "      <td>0</td>\n",
       "      <td>0.000000</td>\n",
       "      <td>0.014151</td>\n",
       "      <td>0.0</td>\n",
       "    </tr>\n",
       "    <tr>\n",
       "      <th>416</th>\n",
       "      <td>1.0</td>\n",
       "      <td>0</td>\n",
       "      <td>0.396975</td>\n",
       "      <td>0</td>\n",
       "      <td>0.000000</td>\n",
       "      <td>0.015713</td>\n",
       "      <td>0.0</td>\n",
       "    </tr>\n",
       "    <tr>\n",
       "      <th>417</th>\n",
       "      <td>1.0</td>\n",
       "      <td>0</td>\n",
       "      <td>0.396975</td>\n",
       "      <td>1</td>\n",
       "      <td>0.111111</td>\n",
       "      <td>0.043640</td>\n",
       "      <td>0.5</td>\n",
       "    </tr>\n",
       "  </tbody>\n",
       "</table>\n",
       "<p>418 rows × 7 columns</p>\n",
       "</div>"
      ],
      "text/plain": [
       "     Pclass  Sex       Age  SibSp     Parch      Fare  Embarked\n",
       "0       1.0    0  0.452723      0  0.000000  0.015282       1.0\n",
       "1       1.0    1  0.617566      1  0.000000  0.013663       0.0\n",
       "2       0.5    0  0.815377      0  0.000000  0.018909       1.0\n",
       "3       1.0    0  0.353818      0  0.000000  0.016908       0.0\n",
       "4       1.0    1  0.287881      1  0.111111  0.023984       0.0\n",
       "..      ...  ...       ...    ...       ...       ...       ...\n",
       "413     1.0    0  0.396975      0  0.000000  0.015713       0.0\n",
       "414     0.0    1  0.512066      0  0.000000  0.212559       0.5\n",
       "415     1.0    0  0.505473      0  0.000000  0.014151       0.0\n",
       "416     1.0    0  0.396975      0  0.000000  0.015713       0.0\n",
       "417     1.0    0  0.396975      1  0.111111  0.043640       0.5\n",
       "\n",
       "[418 rows x 7 columns]"
      ]
     },
     "execution_count": 82,
     "metadata": {},
     "output_type": "execute_result"
    }
   ],
   "source": [
    "df2"
   ]
  },
  {
   "cell_type": "code",
   "execution_count": 83,
   "id": "4e7a4473",
   "metadata": {},
   "outputs": [],
   "source": [
    "data2 = []\n",
    "\n",
    "for index, row in df2.iterrows():\n",
    "    data2.append(row.to_numpy().reshape(7,1))"
   ]
  },
  {
   "cell_type": "code",
   "execution_count": 84,
   "id": "d132f4bb",
   "metadata": {},
   "outputs": [],
   "source": [
    "res = []\n",
    "for entry in data2:\n",
    "    tmp = Network.frontprop(entry)[-1]\n",
    "    if tmp > 0.5:\n",
    "        res.append(1)\n",
    "    else:\n",
    "        res.append(0)"
   ]
  },
  {
   "cell_type": "code",
   "execution_count": 85,
   "id": "0ea66c06",
   "metadata": {},
   "outputs": [],
   "source": [
    "df2 = pd.read_csv(\"./titanic/test.csv\")\n",
    "submission = pd.DataFrame({\"PassengerId\" : df2[\"PassengerId\"], \"Survived\" : res})"
   ]
  },
  {
   "cell_type": "code",
   "execution_count": 86,
   "id": "1ec3acb1",
   "metadata": {},
   "outputs": [],
   "source": [
    "submission.to_csv('submission.csv', index=False)"
   ]
  },
  {
   "cell_type": "code",
   "execution_count": null,
   "id": "f96af756",
   "metadata": {},
   "outputs": [],
   "source": []
  }
 ],
 "metadata": {
  "kernelspec": {
   "display_name": ".venv",
   "language": "python",
   "name": "python3"
  },
  "language_info": {
   "codemirror_mode": {
    "name": "ipython",
    "version": 3
   },
   "file_extension": ".py",
   "mimetype": "text/x-python",
   "name": "python",
   "nbconvert_exporter": "python",
   "pygments_lexer": "ipython3",
   "version": "3.13.2"
  }
 },
 "nbformat": 4,
 "nbformat_minor": 5
}
