{
 "cells": [
  {
   "cell_type": "markdown",
   "id": "228e637a",
   "metadata": {},
   "source": [
    "## Testing notebook for my ai lib"
   ]
  },
  {
   "cell_type": "code",
   "execution_count": 1,
   "id": "43490649",
   "metadata": {},
   "outputs": [],
   "source": [
    "from lou.NL import *"
   ]
  },
  {
   "cell_type": "code",
   "execution_count": 2,
   "id": "02995ae2",
   "metadata": {},
   "outputs": [],
   "source": [
    "Network = NeuralNetwork([9,10,1])"
   ]
  },
  {
   "cell_type": "code",
   "execution_count": 3,
   "id": "37c94e2d",
   "metadata": {},
   "outputs": [
    {
     "name": "stdout",
     "output_type": "stream",
     "text": [
      "(10, 9)\n",
      "(1, 10)\n",
      "(10, 1)\n",
      "(1, 1)\n"
     ]
    }
   ],
   "source": [
    "for w in Network.Weights:\n",
    "    print(w.shape)\n",
    "\n",
    "for b in Network.Biases:\n",
    "    print(b.shape)"
   ]
  },
  {
   "cell_type": "code",
   "execution_count": 4,
   "id": "3662eed5",
   "metadata": {},
   "outputs": [
    {
     "data": {
      "text/plain": [
       "[array([[1],\n",
       "        [0],\n",
       "        [0],\n",
       "        [0],\n",
       "        [0],\n",
       "        [0],\n",
       "        [0],\n",
       "        [0],\n",
       "        [0]]),\n",
       " array([[0.75267638],\n",
       "        [0.81760146],\n",
       "        [0.64677012],\n",
       "        [0.66860735],\n",
       "        [0.6964309 ],\n",
       "        [0.69540988],\n",
       "        [0.80214885],\n",
       "        [0.66103766],\n",
       "        [0.63271128],\n",
       "        [0.69271998]]),\n",
       " array([[0.97918923]])]"
      ]
     },
     "execution_count": 4,
     "metadata": {},
     "output_type": "execute_result"
    }
   ],
   "source": [
    "Network.frontprop(np.array([[1,0,0,0,0,0,0,0,0]]))"
   ]
  },
  {
   "cell_type": "code",
   "execution_count": 5,
   "id": "7d83004c",
   "metadata": {},
   "outputs": [],
   "source": [
    "#this data only works for a network with the same configuration as seen above.\n",
    "\n",
    "data = [(np.array([0,0,0,0,0,0,0,0,0]), np.array([0])), \n",
    "        (np.array([1,0,0,0,0,0,0,0,0]), np.array([0])), \n",
    "        (np.array([0,1,0,0,0,0,0,0,0]), np.array([0])), \n",
    "        (np.array([0,0,1,0,0,0,0,0,0]), np.array([0])), \n",
    "        (np.array([0,0,0,1,0,0,0,0,0]), np.array([0])),\n",
    "        (np.array([0,0,0,0,1,0,0,0,0]), np.array([0])),\n",
    "        (np.array([0,0,0,0,0,1,0,0,0]), np.array([1])),\n",
    "        (np.array([0,0,0,0,0,0,1,0,0]), np.array([1])),\n",
    "        (np.array([0,0,0,0,0,0,0,1,0]), np.array([1])),\n",
    "        (np.array([0,0,0,0,0,0,0,0,1]), np.array([1])),\n",
    "        (np.array([1,0,1,0,0,0,0,0,0]), np.array([0])),\n",
    "        (np.array([1,1,0,0,0,0,0,0,0]), np.array([0])),\n",
    "        (np.array([0,0,0,0,0,1,0,0,1]), np.array([1])),\n",
    "        (np.array([1,0,0,0,0,0,0,0,1]), np.array([1])),\n",
    "        (np.array([1,0,1,0,0,0,1,0,1]), np.array([1])),\n",
    "        (np.array([0,0,1,1,0,0,0,0,1]), np.array([1])),\n",
    "        (np.array([1,0,0,0,0,0,0,1,1]), np.array([1]))]\n"
   ]
  },
  {
   "cell_type": "code",
   "execution_count": 6,
   "id": "a8ef9902",
   "metadata": {},
   "outputs": [],
   "source": [
    "Network.train(data, tries=10000)"
   ]
  },
  {
   "cell_type": "code",
   "execution_count": 7,
   "id": "ff3b4c6f",
   "metadata": {},
   "outputs": [
    {
     "data": {
      "text/plain": [
       "np.float64(0.0010164278403271326)"
      ]
     },
     "execution_count": 7,
     "metadata": {},
     "output_type": "execute_result"
    }
   ],
   "source": [
    "Network.meancost(data)"
   ]
  },
  {
   "cell_type": "code",
   "execution_count": 8,
   "id": "4a2798a1",
   "metadata": {},
   "outputs": [
    {
     "name": "stdout",
     "output_type": "stream",
     "text": [
      "0.20601832476211676\n",
      "0.0014307046398876395\n"
     ]
    }
   ],
   "source": [
    "# test with a new configuration mainting a start of 9 and an end of 1\n",
    "Network2 = NeuralNetwork([9,5,5,1])\n",
    "\n",
    "print(Network2.meancost(data))\n",
    "\n",
    "Network2.train(data, tries=10000)\n",
    "\n",
    "print(Network2.meancost(data))"
   ]
  },
  {
   "cell_type": "code",
   "execution_count": 9,
   "id": "9749e411",
   "metadata": {},
   "outputs": [
    {
     "name": "stdout",
     "output_type": "stream",
     "text": [
      "Export succesful\n"
     ]
    }
   ],
   "source": [
    "Network2.export('./network3')\n",
    "Network3 = ImportNetwork(\"./network3\")\n",
    "assert(Network3.meancost(data)==Network2.meancost(data))\n",
    "    "
   ]
  },
  {
   "cell_type": "code",
   "execution_count": null,
   "id": "9fe82038",
   "metadata": {},
   "outputs": [
    {
     "name": "stdout",
     "output_type": "stream",
     "text": [
      "[[0.9837930863433803], [0.9837930863433803]]\n"
     ]
    }
   ],
   "source": [
    "from lou.Tokenizer import CharTokenizer\n",
    "\n",
    "print(Network.FeedTokens(CharTokenizer, \"HelloNeighbout\"))"
   ]
  },
  {
   "cell_type": "code",
   "execution_count": null,
   "id": "00ef04ef",
   "metadata": {},
   "outputs": [],
   "source": []
  }
 ],
 "metadata": {
  "kernelspec": {
   "display_name": "venv",
   "language": "python",
   "name": "python3"
  },
  "language_info": {
   "codemirror_mode": {
    "name": "ipython",
    "version": 3
   },
   "file_extension": ".py",
   "mimetype": "text/x-python",
   "name": "python",
   "nbconvert_exporter": "python",
   "pygments_lexer": "ipython3",
   "version": "3.13.2"
  }
 },
 "nbformat": 4,
 "nbformat_minor": 5
}
